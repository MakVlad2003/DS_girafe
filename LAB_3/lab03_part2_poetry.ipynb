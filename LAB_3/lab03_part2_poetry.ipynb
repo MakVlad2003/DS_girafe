{
  "cells": [
    {
      "cell_type": "markdown",
      "metadata": {
        "id": "OXZZbmfVmcu1"
      },
      "source": [
        "### Part 2: Poetry generation (for real)\n",
        "\n",
        "Let's try to generate some poetry using RNNs.\n",
        "\n",
        "You have several choices here:\n",
        "\n",
        "* The Shakespeare sonnets, file `sonnets.txt` available in the notebook directory.\n",
        "\n",
        "* Роман в стихах \"Евгений Онегин\" Александра Сергеевича Пушкина. В предобработанном виде доступен по [ссылке](https://github.com/attatrol/data_sources/blob/master/onegin.txt).\n",
        "\n",
        "* Some other text source, if it will be approved by the course staff.\n",
        "\n",
        "Text generation can be designed in several steps:\n",
        "    \n",
        "1. Data loading.\n",
        "2. Dictionary generation.\n",
        "3. Data preprocessing.\n",
        "4. Model (neural network) training.\n",
        "5. Text generation (model evaluation).\n"
      ]
    },
    {
      "cell_type": "code",
      "source": [
        "!pip install pytorch-lightning torchmetrics"
      ],
      "metadata": {
        "colab": {
          "base_uri": "https://localhost:8080/"
        },
        "id": "vk7FOkP60aGY",
        "outputId": "77fa9bf7-26ee-4157-b294-eace5fc1f9ed"
      },
      "execution_count": 1,
      "outputs": [
        {
          "output_type": "stream",
          "name": "stdout",
          "text": [
            "Collecting pytorch-lightning\n",
            "  Downloading pytorch_lightning-2.4.0-py3-none-any.whl.metadata (21 kB)\n",
            "Collecting torchmetrics\n",
            "  Downloading torchmetrics-1.6.0-py3-none-any.whl.metadata (20 kB)\n",
            "Requirement already satisfied: torch>=2.1.0 in /usr/local/lib/python3.10/dist-packages (from pytorch-lightning) (2.5.1+cu121)\n",
            "Requirement already satisfied: tqdm>=4.57.0 in /usr/local/lib/python3.10/dist-packages (from pytorch-lightning) (4.66.6)\n",
            "Requirement already satisfied: PyYAML>=5.4 in /usr/local/lib/python3.10/dist-packages (from pytorch-lightning) (6.0.2)\n",
            "Requirement already satisfied: fsspec>=2022.5.0 in /usr/local/lib/python3.10/dist-packages (from fsspec[http]>=2022.5.0->pytorch-lightning) (2024.10.0)\n",
            "Requirement already satisfied: packaging>=20.0 in /usr/local/lib/python3.10/dist-packages (from pytorch-lightning) (24.2)\n",
            "Requirement already satisfied: typing-extensions>=4.4.0 in /usr/local/lib/python3.10/dist-packages (from pytorch-lightning) (4.12.2)\n",
            "Collecting lightning-utilities>=0.10.0 (from pytorch-lightning)\n",
            "  Downloading lightning_utilities-0.11.9-py3-none-any.whl.metadata (5.2 kB)\n",
            "Requirement already satisfied: numpy>1.20.0 in /usr/local/lib/python3.10/dist-packages (from torchmetrics) (1.26.4)\n",
            "Requirement already satisfied: aiohttp!=4.0.0a0,!=4.0.0a1 in /usr/local/lib/python3.10/dist-packages (from fsspec[http]>=2022.5.0->pytorch-lightning) (3.11.9)\n",
            "Requirement already satisfied: setuptools in /usr/local/lib/python3.10/dist-packages (from lightning-utilities>=0.10.0->pytorch-lightning) (75.1.0)\n",
            "Requirement already satisfied: filelock in /usr/local/lib/python3.10/dist-packages (from torch>=2.1.0->pytorch-lightning) (3.16.1)\n",
            "Requirement already satisfied: networkx in /usr/local/lib/python3.10/dist-packages (from torch>=2.1.0->pytorch-lightning) (3.4.2)\n",
            "Requirement already satisfied: jinja2 in /usr/local/lib/python3.10/dist-packages (from torch>=2.1.0->pytorch-lightning) (3.1.4)\n",
            "Requirement already satisfied: sympy==1.13.1 in /usr/local/lib/python3.10/dist-packages (from torch>=2.1.0->pytorch-lightning) (1.13.1)\n",
            "Requirement already satisfied: mpmath<1.4,>=1.1.0 in /usr/local/lib/python3.10/dist-packages (from sympy==1.13.1->torch>=2.1.0->pytorch-lightning) (1.3.0)\n",
            "Requirement already satisfied: aiohappyeyeballs>=2.3.0 in /usr/local/lib/python3.10/dist-packages (from aiohttp!=4.0.0a0,!=4.0.0a1->fsspec[http]>=2022.5.0->pytorch-lightning) (2.4.4)\n",
            "Requirement already satisfied: aiosignal>=1.1.2 in /usr/local/lib/python3.10/dist-packages (from aiohttp!=4.0.0a0,!=4.0.0a1->fsspec[http]>=2022.5.0->pytorch-lightning) (1.3.1)\n",
            "Requirement already satisfied: async-timeout<6.0,>=4.0 in /usr/local/lib/python3.10/dist-packages (from aiohttp!=4.0.0a0,!=4.0.0a1->fsspec[http]>=2022.5.0->pytorch-lightning) (4.0.3)\n",
            "Requirement already satisfied: attrs>=17.3.0 in /usr/local/lib/python3.10/dist-packages (from aiohttp!=4.0.0a0,!=4.0.0a1->fsspec[http]>=2022.5.0->pytorch-lightning) (24.2.0)\n",
            "Requirement already satisfied: frozenlist>=1.1.1 in /usr/local/lib/python3.10/dist-packages (from aiohttp!=4.0.0a0,!=4.0.0a1->fsspec[http]>=2022.5.0->pytorch-lightning) (1.5.0)\n",
            "Requirement already satisfied: multidict<7.0,>=4.5 in /usr/local/lib/python3.10/dist-packages (from aiohttp!=4.0.0a0,!=4.0.0a1->fsspec[http]>=2022.5.0->pytorch-lightning) (6.1.0)\n",
            "Requirement already satisfied: propcache>=0.2.0 in /usr/local/lib/python3.10/dist-packages (from aiohttp!=4.0.0a0,!=4.0.0a1->fsspec[http]>=2022.5.0->pytorch-lightning) (0.2.1)\n",
            "Requirement already satisfied: yarl<2.0,>=1.17.0 in /usr/local/lib/python3.10/dist-packages (from aiohttp!=4.0.0a0,!=4.0.0a1->fsspec[http]>=2022.5.0->pytorch-lightning) (1.18.3)\n",
            "Requirement already satisfied: MarkupSafe>=2.0 in /usr/local/lib/python3.10/dist-packages (from jinja2->torch>=2.1.0->pytorch-lightning) (3.0.2)\n",
            "Requirement already satisfied: idna>=2.0 in /usr/local/lib/python3.10/dist-packages (from yarl<2.0,>=1.17.0->aiohttp!=4.0.0a0,!=4.0.0a1->fsspec[http]>=2022.5.0->pytorch-lightning) (3.10)\n",
            "Downloading pytorch_lightning-2.4.0-py3-none-any.whl (815 kB)\n",
            "\u001b[2K   \u001b[90m━━━━━━━━━━━━━━━━━━━━━━━━━━━━━━━━━━━━━━━━\u001b[0m \u001b[32m815.2/815.2 kB\u001b[0m \u001b[31m13.3 MB/s\u001b[0m eta \u001b[36m0:00:00\u001b[0m\n",
            "\u001b[?25hDownloading torchmetrics-1.6.0-py3-none-any.whl (926 kB)\n",
            "\u001b[2K   \u001b[90m━━━━━━━━━━━━━━━━━━━━━━━━━━━━━━━━━━━━━━━━\u001b[0m \u001b[32m926.4/926.4 kB\u001b[0m \u001b[31m13.8 MB/s\u001b[0m eta \u001b[36m0:00:00\u001b[0m\n",
            "\u001b[?25hDownloading lightning_utilities-0.11.9-py3-none-any.whl (28 kB)\n",
            "Installing collected packages: lightning-utilities, torchmetrics, pytorch-lightning\n",
            "Successfully installed lightning-utilities-0.11.9 pytorch-lightning-2.4.0 torchmetrics-1.6.0\n"
          ]
        }
      ]
    },
    {
      "cell_type": "code",
      "execution_count": 2,
      "metadata": {
        "id": "Ib1u2FA5mcu5"
      },
      "outputs": [],
      "source": [
        "import string\n",
        "import os\n",
        "\n",
        "import numpy as np\n",
        "import matplotlib.pyplot as plt\n",
        "\n",
        "import torch, torch.nn as nn\n",
        "import torch.nn.functional as F\n",
        "from random import sample\n",
        "\n",
        "import pytorch_lightning as pl\n",
        "from torch.utils.data import DataLoader"
      ]
    },
    {
      "cell_type": "markdown",
      "metadata": {
        "id": "lr_Ju2X_mcu7"
      },
      "source": [
        "### Data loading: Shakespeare"
      ]
    },
    {
      "cell_type": "markdown",
      "metadata": {
        "id": "AmiCAufUmcu7"
      },
      "source": [
        "Shakespeare sonnets are awailable at this [link](http://www.gutenberg.org/ebooks/1041?msg=welcome_stranger). In addition, they are stored in the same directory as this notebook (`sonnetes.txt`). Simple preprocessing is already done for you in the next cell: all technical info is dropped."
      ]
    },
    {
      "cell_type": "code",
      "execution_count": 4,
      "metadata": {
        "collapsed": true,
        "id": "mgH-eC8amcu8"
      },
      "outputs": [],
      "source": [
        "if not os.path.exists('sonnets.txt'):\n",
        "    !wget https://raw.githubusercontent.com/girafe-ai/ml-course/22f_basic/homeworks_basic/lab02_deep_learning/sonnets.txt\n",
        "\n",
        "with open('sonnets.txt', 'r') as iofile:\n",
        "    text = iofile.readlines()\n",
        "\n",
        "TEXT_START = 45\n",
        "TEXT_END = -368\n",
        "text = text[TEXT_START : TEXT_END]\n",
        "assert len(text) == 2616"
      ]
    },
    {
      "cell_type": "markdown",
      "metadata": {
        "id": "Xd6u-J33mcu9"
      },
      "source": [
        "In opposite to the in-class practice, this time we want to predict complex text. Let's reduce the complexity of the task and lowercase all the symbols.\n",
        "\n",
        "Now variable `text` is a list of strings. Join all the strings into one and lowercase it."
      ]
    },
    {
      "cell_type": "code",
      "execution_count": 5,
      "metadata": {
        "id": "aJ95ipcMmcu9",
        "colab": {
          "base_uri": "https://localhost:8080/"
        },
        "outputId": "5252cd86-e091-4fc7-9b2a-f24a339e3e3f"
      },
      "outputs": [
        {
          "output_type": "stream",
          "name": "stdout",
          "text": [
            "OK!\n"
          ]
        }
      ],
      "source": [
        "# Join all the strings into one and lowercase it\n",
        "# Put result into variable text.\n",
        "\n",
        "text = ''.join([x.lower() for x in text])\n",
        "\n",
        "assert len(text) == 100225, \"Are you sure you have concatenated all the strings?\"\n",
        "assert not any([x in set(text) for x in string.ascii_uppercase]), \"Uppercase letters are present\"\n",
        "print(\"OK!\")"
      ]
    },
    {
      "cell_type": "markdown",
      "metadata": {
        "id": "mnYJYpBwmcu-"
      },
      "source": [
        "### Data loading: \"Евгений Онегин\"\n"
      ]
    },
    {
      "cell_type": "code",
      "execution_count": 6,
      "metadata": {
        "id": "rMewGCsxmcu_",
        "outputId": "5a03fa69-52a3-4c14-a255-fcd0ea5a1233",
        "colab": {
          "base_uri": "https://localhost:8080/"
        }
      },
      "outputs": [
        {
          "output_type": "stream",
          "name": "stdout",
          "text": [
            "--2024-12-07 17:02:47--  https://raw.githubusercontent.com/attatrol/data_sources/master/onegin.txt\n",
            "Resolving raw.githubusercontent.com (raw.githubusercontent.com)... 185.199.110.133, 185.199.111.133, 185.199.109.133, ...\n",
            "Connecting to raw.githubusercontent.com (raw.githubusercontent.com)|185.199.110.133|:443... connected.\n",
            "HTTP request sent, awaiting response... 200 OK\n",
            "Length: 262521 (256K) [text/plain]\n",
            "Saving to: ‘onegin.txt’\n",
            "\n",
            "\ronegin.txt            0%[                    ]       0  --.-KB/s               \ronegin.txt          100%[===================>] 256.37K  --.-KB/s    in 0.02s   \n",
            "\n",
            "2024-12-07 17:02:47 (10.0 MB/s) - ‘onegin.txt’ saved [262521/262521]\n",
            "\n"
          ]
        }
      ],
      "source": [
        "!wget https://raw.githubusercontent.com/attatrol/data_sources/master/onegin.txt\n",
        "\n",
        "with open('onegin.txt', 'r') as iofile:\n",
        "    text = iofile.readlines()\n",
        "\n",
        "text = [x.replace('\\t\\t', '') for x in text]"
      ]
    },
    {
      "cell_type": "markdown",
      "metadata": {
        "id": "MthCgyYhmcvB"
      },
      "source": [
        "In opposite to the in-class practice, this time we want to predict complex text. Let's reduce the complexity of the task and lowercase all the symbols.\n",
        "\n",
        "Now variable `text` is a list of strings. Join all the strings into one and lowercase it."
      ]
    },
    {
      "cell_type": "code",
      "execution_count": 7,
      "metadata": {
        "id": "hqoCrZF0mcvC"
      },
      "outputs": [],
      "source": [
        "# Join all the strings into one and lowercase it\n",
        "# Put result into variable text.\n",
        "\n",
        "text = ''.join(x.replace('\\t\\t', '').lower() for x in text)"
      ]
    },
    {
      "cell_type": "markdown",
      "metadata": {
        "id": "wbnr-NBNmcvD"
      },
      "source": [
        "Put all the characters, that you've seen in the text, into variable `tokens`."
      ]
    },
    {
      "cell_type": "code",
      "execution_count": 8,
      "metadata": {
        "id": "4v9HdE_amcvD"
      },
      "outputs": [],
      "source": [
        "tokens = sorted(set(text)) + ['|']"
      ]
    },
    {
      "cell_type": "markdown",
      "metadata": {
        "id": "BhdulAiBmcvE"
      },
      "source": [
        "Create dictionary `token_to_idx = {<char>: <index>}` and dictionary `idx_to_token = {<index>: <char>}`"
      ]
    },
    {
      "cell_type": "code",
      "execution_count": 9,
      "metadata": {
        "collapsed": true,
        "id": "_Iddcn3WmcvE"
      },
      "outputs": [],
      "source": [
        "# dict <index>:<char>\n",
        "token_to_idx = {token: idx for idx, token in enumerate(tokens)}\n",
        "\n",
        "# dict <char>:<index>\n",
        "idx_to_token = {idx: token for token, idx in token_to_idx.items()}"
      ]
    },
    {
      "cell_type": "code",
      "source": [
        "def matrix(data, max_len=None, pad=token_to_idx['|'], dtype='int32', batch_first=True):\n",
        "    max_len = max_len or max(map(len, data))\n",
        "    data_ix = np.full((len(data), max_len), fill_value=pad, dtype=dtype)\n",
        "\n",
        "    for i, line in enumerate(data):\n",
        "        data_ix[i, :len(line)] = [token_to_idx[c] for c in line]\n",
        "\n",
        "    return data_ix if batch_first else data_ix.T\n",
        "\n",
        "train_dataset = [x for x in text.split('\\n') if len(x) > 10]"
      ],
      "metadata": {
        "id": "K8lxEVwWz-Bq"
      },
      "execution_count": 10,
      "outputs": []
    },
    {
      "cell_type": "code",
      "source": [
        "print(f\"Dataset Summary\")\n",
        "print(f\"----------------\")\n",
        "print(f\"Total samples in train dataset: {len(train_dataset)}\")\n",
        "print()\n",
        "\n",
        "print(f\"First 10 samples:\")\n",
        "print(\"------------------------------------------------------------\")\n",
        "for i, sample in enumerate(train_dataset[:10], 1):\n",
        "    print(f\"{i}: {sample}\")"
      ],
      "metadata": {
        "colab": {
          "base_uri": "https://localhost:8080/"
        },
        "id": "9YxVzUB10vIf",
        "outputId": "b084bd7b-2a82-4af7-9d09-f567941e4454"
      },
      "execution_count": 13,
      "outputs": [
        {
          "output_type": "stream",
          "name": "stdout",
          "text": [
            "Dataset Summary\n",
            "----------------\n",
            "Total samples in train dataset: 5254\n",
            "\n",
            "First 10 samples:\n",
            "------------------------------------------------------------\n",
            "1: «мой дядя самых честных правил,\n",
            "2: когда не в шутку занемог,\n",
            "3: он уважать себя заставил\n",
            "4: и лучше выдумать не мог.\n",
            "5: его пример другим наука;\n",
            "6: но, боже мой, какая скука\n",
            "7: с больным сидеть и день и ночь,\n",
            "8: не отходя ни шагу прочь!\n",
            "9: какое низкое коварство\n",
            "10: полуживого забавлять,\n"
          ]
        }
      ]
    },
    {
      "cell_type": "markdown",
      "metadata": {
        "id": "HXbAOvzKmcvF"
      },
      "source": [
        "*Comment: in this task we have only 38 different tokens, so let's use one-hot encoding.*"
      ]
    },
    {
      "cell_type": "markdown",
      "metadata": {
        "id": "4excy2eWmcvF"
      },
      "source": [
        "### Building the model"
      ]
    },
    {
      "cell_type": "markdown",
      "metadata": {
        "id": "6bhvQL7fmcvF"
      },
      "source": [
        "Now we want to build and train recurrent neural net which would be able to something similar to Shakespeare's poetry.\n",
        "\n",
        "Let's use vanilla RNN, similar to the one created during the lesson."
      ]
    },
    {
      "cell_type": "markdown",
      "metadata": {
        "id": "ud_f0Nc4mcvG"
      },
      "source": [
        "Plot the loss function (axis X: number of epochs, axis Y: loss function)."
      ]
    },
    {
      "cell_type": "markdown",
      "source": [
        "**Комментарий:**\n",
        "\n",
        "Поскольку я использовал PyTorch Lightning, интерактивные TensorBoard логи занимают достаточно много места. Поэтому ниже прилагаю скриншоты графиков лосса."
      ],
      "metadata": {
        "id": "Qos8sTuM13Kk"
      }
    },
    {
      "cell_type": "code",
      "source": [
        "class CharRNN(pl.LightningModule):\n",
        "    def __init__(self, num_tokens=len(tokens), embedding_size=64, rnn_num_units=256, max_length=100):\n",
        "        super().__init__()\n",
        "        self.num_units = rnn_num_units\n",
        "        self.num_tokens = num_tokens\n",
        "        self.max_length = max_length\n",
        "\n",
        "        self.embedding = nn.Embedding(num_tokens, embedding_size)\n",
        "        self.rnn_update = nn.Linear(embedding_size + rnn_num_units, rnn_num_units)\n",
        "        self.rnn_to_logits = nn.Linear(rnn_num_units, num_tokens)\n",
        "\n",
        "    def forward(self, x, h_prev):\n",
        "        x_emb = self.embedding(x)\n",
        "        x_and_h = torch.cat([x_emb, h_prev], dim=-1)\n",
        "        h_next = torch.tanh(self.rnn_update(x_and_h))\n",
        "        logits = self.rnn_to_logits(h_next)\n",
        "        return h_next, F.log_softmax(logits, dim=-1)\n",
        "\n",
        "    def initial_state(self, batch_size):\n",
        "        return torch.zeros(batch_size, self.num_units, device=self.device)\n",
        "\n",
        "    def rnn_loop(self, batch_ix):\n",
        "        batch_size, max_length = batch_ix.size()\n",
        "        hid_state = self.initial_state(batch_size)\n",
        "        logprobs = []\n",
        "\n",
        "        for x_t in batch_ix.transpose(0, 1):\n",
        "            hid_state, logp_next = self(x_t, hid_state)\n",
        "            logprobs.append(logp_next)\n",
        "\n",
        "        return torch.stack(logprobs, dim=1)\n",
        "\n",
        "    def training_step(self, batch, batch_idx):\n",
        "        batch_ix = batch\n",
        "        logp_seq = self.rnn_loop(batch_ix)\n",
        "        predictions_logp = logp_seq[:, :-1]\n",
        "        actual_next_tokens = batch_ix[:, 1:]\n",
        "        loss = -torch.mean(torch.gather(predictions_logp, dim=2, index=actual_next_tokens[:, :, None]))\n",
        "        self.log('train_loss', loss)\n",
        "        return loss\n",
        "\n",
        "    def configure_optimizers(self):\n",
        "        return torch.optim.Adam(self.parameters())\n",
        "\n",
        "    def generate_sample(self, seed_phrase=' ', max_length=None, temperature=1.0):\n",
        "        max_length = max_length if max_length else self.max_length\n",
        "        x_sequence = [token_to_idx[token.lower()] for token in seed_phrase]\n",
        "        x_sequence = torch.tensor([x_sequence], dtype=torch.int64, device=self.device)\n",
        "        hid_state = self.initial_state(batch_size=1)\n",
        "\n",
        "        for i in range(len(seed_phrase) - 1):\n",
        "            hid_state, _ = self(x_sequence[:, i], hid_state)\n",
        "\n",
        "        for _ in range(max_length - len(seed_phrase)):\n",
        "            hid_state, logp_next = self(x_sequence[:, -1], hid_state)\n",
        "            p_next = F.softmax(logp_next / temperature, dim=-1).cpu().data.numpy()[0]\n",
        "            next_ix = np.random.choice(self.num_tokens, p=p_next)\n",
        "            next_ix = torch.tensor([[next_ix]], dtype=torch.int64, device=self.device)\n",
        "            x_sequence = torch.cat([x_sequence, next_ix], dim=1)\n",
        "\n",
        "        return ''.join([idx_to_token[ix] for ix in x_sequence.cpu().data.numpy()[0]]).split('|')[0]"
      ],
      "metadata": {
        "id": "5rH0tviQ12x6"
      },
      "execution_count": 14,
      "outputs": []
    },
    {
      "cell_type": "code",
      "source": [
        "def collate_fn(batch):\n",
        "    return torch.tensor(matrix(batch), dtype=torch.int64)"
      ],
      "metadata": {
        "id": "YLh1FpIj2PxQ"
      },
      "execution_count": 15,
      "outputs": []
    },
    {
      "cell_type": "code",
      "source": [
        "num_iter = 4000\n",
        "batch_size = 32\n",
        "steps_per_epoch = len(train_dataset) // batch_size\n",
        "num_epochs = num_iter // steps_per_epoch"
      ],
      "metadata": {
        "id": "VBmDAmcnEO9W"
      },
      "execution_count": 16,
      "outputs": []
    },
    {
      "cell_type": "code",
      "source": [
        "train_loader = DataLoader(train_dataset, batch_size=batch_size, shuffle=True, collate_fn=collate_fn)\n",
        "char_rnn = CharRNN(max_length=max(map(len, train_dataset)))"
      ],
      "metadata": {
        "id": "gj4RZbCI2UdW"
      },
      "execution_count": 17,
      "outputs": []
    },
    {
      "cell_type": "code",
      "source": [
        "trainer = pl.Trainer(max_epochs=num_epochs, log_every_n_steps=10)\n",
        "trainer.fit(char_rnn, train_loader)"
      ],
      "metadata": {
        "colab": {
          "base_uri": "https://localhost:8080/",
          "height": 361,
          "referenced_widgets": [
            "4d997a17cdc9454e89c69c93b240a5d3",
            "742f6653c818443c92cd653a2b66847a",
            "0d21a1160d9f41cbac3c7afc7b15c81c",
            "20c82a6ba00e4e6782922e296b95f8ec",
            "ba4ef6e480f940c1972b5ea7865abd3d",
            "10377618d4014897a399be47564cc226",
            "ec5b8f97424d4f669ea5476e00ce4434",
            "1378af1fbaf14f51a6657635863d1527",
            "57c59dc0a62b46ada9df42f5635dcb3f",
            "914eb180f4d64435832b5df26135c9a4",
            "2ec28d0cb5174e72a420d1f946772083"
          ]
        },
        "id": "whQbRQgt2c5_",
        "outputId": "b0c0ba55-ae54-42c0-8eb6-7a4842807b46"
      },
      "execution_count": 18,
      "outputs": [
        {
          "output_type": "stream",
          "name": "stderr",
          "text": [
            "INFO:pytorch_lightning.utilities.rank_zero:GPU available: True (cuda), used: True\n",
            "INFO:pytorch_lightning.utilities.rank_zero:TPU available: False, using: 0 TPU cores\n",
            "INFO:pytorch_lightning.utilities.rank_zero:HPU available: False, using: 0 HPUs\n",
            "INFO:pytorch_lightning.accelerators.cuda:LOCAL_RANK: 0 - CUDA_VISIBLE_DEVICES: [0]\n",
            "INFO:pytorch_lightning.callbacks.model_summary:\n",
            "  | Name          | Type      | Params | Mode \n",
            "----------------------------------------------------\n",
            "0 | embedding     | Embedding | 5.4 K  | train\n",
            "1 | rnn_update    | Linear    | 82.2 K | train\n",
            "2 | rnn_to_logits | Linear    | 21.6 K | train\n",
            "----------------------------------------------------\n",
            "109 K     Trainable params\n",
            "0         Non-trainable params\n",
            "109 K     Total params\n",
            "0.437     Total estimated model params size (MB)\n",
            "3         Modules in train mode\n",
            "0         Modules in eval mode\n"
          ]
        },
        {
          "output_type": "display_data",
          "data": {
            "text/plain": [
              "Training: |          | 0/? [00:00<?, ?it/s]"
            ],
            "application/vnd.jupyter.widget-view+json": {
              "version_major": 2,
              "version_minor": 0,
              "model_id": "4d997a17cdc9454e89c69c93b240a5d3"
            }
          },
          "metadata": {}
        },
        {
          "output_type": "stream",
          "name": "stderr",
          "text": [
            "INFO:pytorch_lightning.utilities.rank_zero:`Trainer.fit` stopped: `max_epochs=24` reached.\n"
          ]
        }
      ]
    },
    {
      "cell_type": "code",
      "source": [
        "# Интерактивный просмотр логов\n",
        "#%reload_ext tensorboard\n",
        "#%tensorboard --logdir=lightning_logs/"
      ],
      "metadata": {
        "id": "sTePD42D2sig"
      },
      "execution_count": 40,
      "outputs": []
    },
    {
      "cell_type": "code",
      "execution_count": 20,
      "metadata": {
        "id": "Wgp0S5KrmcvH",
        "outputId": "c57ec5f6-b095-4f61-b444-931c8960aecb",
        "colab": {
          "base_uri": "https://localhost:8080/"
        }
      },
      "outputs": [
        {
          "output_type": "stream",
          "name": "stdout",
          "text": [
            "==================================================\n",
            "Generated Text Samples\n",
            "==================================================\n",
            "\n",
            "Temperature: 0.1\n",
            "--------------------------------------------------\n",
            "Sample 1:  нему надежды не старины,\n",
            "Sample 2:  нему надежды не своей\n",
            "Sample 3:  нему надежды не старины\n",
            "--------------------------------------------------\n",
            "\n",
            "Temperature: 0.2\n",
            "--------------------------------------------------\n",
            "Sample 1:  на вольной старый вам,\n",
            "Sample 2:  пладимая страсти не старинный,\n",
            "Sample 3:  ней сердце в сердце венеренья,\n",
            "--------------------------------------------------\n",
            "\n",
            "Temperature: 0.5\n",
            "--------------------------------------------------\n",
            "Sample 1:  над первый пламенным снегов\n",
            "Sample 2:  отремется в судьбой страсти небовал\n",
            "Sample 3:  не полуж и печальный\n",
            "--------------------------------------------------\n",
            "\n",
            "Temperature: 1.0\n",
            "--------------------------------------------------\n",
            "Sample 1:  нидезлон мои ум, рины.\n",
            "Sample 2:  долодила ностиный?\n",
            "Sample 3:  ней любовью, томит чужны,\n",
            "--------------------------------------------------\n",
            "\n",
            "Temperature: 2.0\n",
            "--------------------------------------------------\n",
            "Sample 1:  рог пуенчась цв бpамему\n",
            "Sample 2:  дклугуй, р-бытке азамикон.\n",
            "Sample 3:  пыi щаютя nцелог\n",
            "--------------------------------------------------\n"
          ]
        }
      ],
      "source": [
        "# An example of generated text.\n",
        "print(\"=\" * 50)\n",
        "print(\"Generated Text Samples\")\n",
        "print(\"=\" * 50)\n",
        "\n",
        "for t in [0.1, 0.2, 0.5, 1.0, 2.0]:\n",
        "    print(f\"\\nTemperature: {t:.1f}\")\n",
        "    print(\"-\" * 50)\n",
        "    for i in range(3):\n",
        "        generated_text = char_rnn.generate_sample(temperature=t)\n",
        "        print(f\"Sample {i + 1}: {generated_text}\")\n",
        "    print(\"-\" * 50)"
      ]
    },
    {
      "cell_type": "markdown",
      "metadata": {
        "id": "5dShWHRlmcvH"
      },
      "source": [
        "### More poetic model\n",
        "\n",
        "Let's use LSTM instead of vanilla RNN and compare the results.\n",
        "\n",
        "*Comment: if you wish, you can use small GPT as well (e.g. from https://github.com/karpathy/nanoGPT)*"
      ]
    },
    {
      "cell_type": "markdown",
      "metadata": {
        "id": "JrhNUTE9mcvH"
      },
      "source": [
        "Plot the loss function of the number of epochs. Does the final loss become better?"
      ]
    },
    {
      "cell_type": "code",
      "execution_count": 33,
      "metadata": {
        "collapsed": true,
        "id": "l5Ny0QyEmcvI"
      },
      "outputs": [],
      "source": [
        "class CharRNNLoop(pl.LightningModule):\n",
        "    def __init__(self, num_tokens=len(tokens), emb_size=64, rnn_num_units=256):\n",
        "        super().__init__()\n",
        "        self.num_tokens = num_tokens\n",
        "        self.MAX_LENGTH = None\n",
        "        self.emb = nn.Embedding(num_tokens, emb_size)\n",
        "        self.rnn = nn.LSTM(emb_size, rnn_num_units, batch_first=True)\n",
        "        self.hid_to_logits = nn.Linear(rnn_num_units, num_tokens)\n",
        "        self.rnn_num_units = rnn_num_units\n",
        "\n",
        "    def forward(self, x):\n",
        "        h_seq, _ = self.rnn(self.emb(x))\n",
        "        next_logits = self.hid_to_logits(h_seq)\n",
        "        next_logp = F.log_softmax(next_logits, dim=-1)\n",
        "        return next_logp\n",
        "\n",
        "    def training_step(self, batch, batch_idx):\n",
        "        # Calculate log probabilities\n",
        "        batch_ix = batch\n",
        "        logp_seq = self(batch_ix)\n",
        "\n",
        "        # Calculate loss\n",
        "        predictions_logp = logp_seq[:, :-1]\n",
        "        actual_next_tokens = batch_ix[:, 1:]\n",
        "        loss = -torch.mean(torch.gather(predictions_logp, dim=2, index=actual_next_tokens[:, :, None]))\n",
        "\n",
        "        # Log the loss\n",
        "        self.log('train_loss', loss, prog_bar=True)\n",
        "        return loss\n",
        "\n",
        "    def configure_optimizers(self):\n",
        "        return torch.optim.Adam(self.parameters())\n",
        "\n",
        "    def generate_sample(self, seed_phrase=' ', max_length=None, temperature=1.0):\n",
        "      assert self.MAX_LENGTH, \"You should fit model before generating sample\"\n",
        "      max_length = max_length if max_length else self.MAX_LENGTH\n",
        "\n",
        "      device = next(self.parameters()).device\n",
        "\n",
        "      x_sequence = [token_to_idx[token.lower()] for token in seed_phrase]\n",
        "      x_sequence = torch.tensor([x_sequence], dtype=torch.int64, device=device)\n",
        "\n",
        "      for _ in range(max_length - len(seed_phrase)):\n",
        "          logp_next = self(x_sequence[:, :])\n",
        "          p_next = F.softmax(logp_next / temperature, dim=-1).detach().cpu().numpy()[0]\n",
        "          next_ix = np.random.choice(self.num_tokens, p=p_next[-1, :])\n",
        "          next_ix = torch.tensor([[next_ix]], dtype=torch.int64, device=device)\n",
        "          x_sequence = torch.cat([x_sequence, next_ix], dim=1)\n",
        "\n",
        "      return ''.join([tokens[ix] for ix in x_sequence.detach().cpu().numpy()[0]]).split('|')[0]"
      ]
    },
    {
      "cell_type": "code",
      "source": [
        "#char_rnn_loop = CharRNNLoop()\n",
        "#char_rnn_loop.fit(train_dataset, num_iter=4000, plot_loss=True)"
      ],
      "metadata": {
        "id": "oEutRFS0BEmG"
      },
      "execution_count": 26,
      "outputs": []
    },
    {
      "cell_type": "code",
      "source": [
        "import glob\n",
        "\n",
        "checkpoint_path = sorted(glob.glob('/content/lightning_logs/version_*/checkpoints/*.ckpt'))[-1]\n",
        "print(f\"Loading checkpoint from: {checkpoint_path}\")"
      ],
      "metadata": {
        "colab": {
          "base_uri": "https://localhost:8080/"
        },
        "id": "LK3FLvHDV21M",
        "outputId": "7f2a7641-fd92-4c1d-c600-8030b867f421"
      },
      "execution_count": 34,
      "outputs": [
        {
          "output_type": "stream",
          "name": "stdout",
          "text": [
            "Loading checkpoint from: /content/lightning_logs/version_1/checkpoints/epoch=3999-step=660000.ckpt\n"
          ]
        }
      ]
    },
    {
      "cell_type": "code",
      "source": [
        "# Загрузить модель из контрольной точки\n",
        "char_rnn_loop = CharRNNLoop.load_from_checkpoint(checkpoint_path)\n",
        "char_rnn_loop.MAX_LENGTH = max(map(len, train_dataset))"
      ],
      "metadata": {
        "id": "J5SnA7PpV8M9"
      },
      "execution_count": 35,
      "outputs": []
    },
    {
      "cell_type": "code",
      "source": [
        "# Интерактивный просмотр логов\n",
        "#%reload_ext tensorboard\n",
        "#%tensorboard --logdir=lightning_logs/"
      ],
      "metadata": {
        "id": "Ns5i1bTbBPRR"
      },
      "execution_count": 38,
      "outputs": []
    },
    {
      "cell_type": "markdown",
      "source": [
        "![image.png](data:image/png;base64,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)"
      ],
      "metadata": {
        "id": "RQ8bTGrFWncK"
      }
    },
    {
      "cell_type": "markdown",
      "metadata": {
        "id": "bJslm5PdmcvI"
      },
      "source": [
        "Generate text using the trained net with different `temperature` parameter: `[0.1, 0.2, 0.5, 1.0, 2.0]`.\n",
        "\n",
        "Evaluate the results visually, try to interpret them."
      ]
    },
    {
      "cell_type": "code",
      "execution_count": 37,
      "metadata": {
        "collapsed": true,
        "id": "JHwNYWDAmcvI",
        "colab": {
          "base_uri": "https://localhost:8080/"
        },
        "outputId": "15c2623e-0e5e-4cfc-a19c-be9f106db4b6"
      },
      "outputs": [
        {
          "output_type": "stream",
          "name": "stdout",
          "text": [
            "temperature = 0.1:\n",
            "\t  что ж? что парьма?» – «так же чептра,\n",
            "\t  что ж? что парьма?» – «так же чептра,\n",
            "\t  что ж? что парьма?» – «так же чептра,\n",
            "temperature = 0.2:\n",
            "\t  что ж? что как в деревне страстей,\n",
            "\t  что ж? что парьма?» – «так же чептра,\n",
            "\t  что ж? что парьма?» – «так же чептра,\n",
            "temperature = 0.5:\n",
            "\t  что ж? что выражала нара\n",
            "\t  что ж? что как в деревне страстей,\n",
            "\t  что ж? что как в душе ночный.\n",
            "temperature = 1.0:\n",
            "\t  что-то с нею гонитель.\n",
            "\t  что ж? аслужу это сплосно\n",
            "\t  где плыток я перед рой.\n",
            "temperature = 2.0:\n",
            "\t  укаблось… когда нет.\n",
            "\t  начнем ненаводит он\n",
            "\t  что жизни перелит.\n"
          ]
        }
      ],
      "source": [
        "for t in [0.1, 0.2, 0.5, 1.0, 2.0]:\n",
        "    print(f\"temperature = {t}:\")\n",
        "    for _ in range(3):\n",
        "        print('\\t', char_rnn_loop.generate_sample(temperature=t))"
      ]
    },
    {
      "cell_type": "markdown",
      "metadata": {
        "id": "JivOEzB9mcvI"
      },
      "source": [
        "### Saving and loading models"
      ]
    },
    {
      "cell_type": "markdown",
      "metadata": {
        "id": "bVZcjj6gmcvI"
      },
      "source": [
        "Save the model to the disk, then load it and generate text. Examples are available [here](https://pytorch.org/tutorials/beginner/saving_loading_models.html])."
      ]
    },
    {
      "cell_type": "code",
      "execution_count": 39,
      "metadata": {
        "collapsed": true,
        "id": "gS5DDCBemcvJ",
        "colab": {
          "base_uri": "https://localhost:8080/",
          "height": 90
        },
        "outputId": "f6001726-332f-41f7-e5c9-1baba5cb443c"
      },
      "outputs": [
        {
          "output_type": "stream",
          "name": "stderr",
          "text": [
            "<ipython-input-39-93e2a7194bf6>:2: FutureWarning: You are using `torch.load` with `weights_only=False` (the current default value), which uses the default pickle module implicitly. It is possible to construct malicious pickle data which will execute arbitrary code during unpickling (See https://github.com/pytorch/pytorch/blob/main/SECURITY.md#untrusted-models for more details). In a future release, the default value for `weights_only` will be flipped to `True`. This limits the functions that could be executed during unpickling. Arbitrary objects will no longer be allowed to be loaded via this mode unless they are explicitly allowlisted by the user via `torch.serialization.add_safe_globals`. We recommend you start setting `weights_only=True` for any use case where you don't have full control of the loaded file. Please open an issue on GitHub for any issues related to this experimental feature.\n",
            "  model = torch.load('model')\n"
          ]
        },
        {
          "output_type": "execute_result",
          "data": {
            "text/plain": [
              "' что ж? что выраться давно,'"
            ],
            "application/vnd.google.colaboratory.intrinsic+json": {
              "type": "string"
            }
          },
          "metadata": {},
          "execution_count": 39
        }
      ],
      "source": [
        "torch.save(char_rnn_loop, 'model')\n",
        "model = torch.load('model')\n",
        "model.generate_sample(temperature=0.5)"
      ]
    },
    {
      "cell_type": "markdown",
      "source": [
        "**Выводы:**\n",
        "\n",
        "Чем ниже значение температуры, тем чаще модель выбирает наиболее популярные и предсказуемые комбинации символов, создавая текст, который кажется более осмысленным, но менее разнообразным. При повышении температуры увеличивается вероятность выбора менее популярных символов, что делает текст более разнообразным, но при этом он теряет связность и становится менее логичным.\n",
        "\n",
        "Оптимальное значение температуры, которое обеспечивает баланс между смыслом и разнообразием текста, обычно находится в районе 0.5. Это позволяет генерировать текст, который выглядит естественно и в то же время сохраняет элемент творческой вариативности."
      ],
      "metadata": {
        "id": "zxp3-3bUWuqx"
      }
    },
    {
      "cell_type": "markdown",
      "metadata": {
        "id": "4qnXdE9bmcvJ"
      },
      "source": [
        "### References\n",
        "1. <a href='http://karpathy.github.io/2015/05/21/rnn-effectiveness/'> Andrew Karpathy blog post about RNN. </a>\n",
        "There are several examples of genration: Shakespeare texts, Latex formulas, Linux Sourse Code and children names.\n",
        "2. <a href='https://github.com/karpathy/char-rnn'> Repo with char-rnn code </a>\n",
        "3. Cool repo with PyTorch examples: [link](https://github.com/spro/practical-pytorch)\n",
        "4. nanoGPT by Andrej Karpathy: https://github.com/karpathy/nanoGPT"
      ]
    }
  ],
  "metadata": {
    "anaconda-cloud": {},
    "kernelspec": {
      "display_name": "Python 3",
      "name": "python3"
    },
    "language_info": {
      "codemirror_mode": {
        "name": "ipython",
        "version": 3
      },
      "file_extension": ".py",
      "mimetype": "text/x-python",
      "name": "python",
      "nbconvert_exporter": "python",
      "pygments_lexer": "ipython3",
      "version": "3.7.7"
    },
    "colab": {
      "provenance": [],
      "gpuType": "T4"
    },
    "accelerator": "GPU",
    "widgets": {
      "application/vnd.jupyter.widget-state+json": {
        "4d997a17cdc9454e89c69c93b240a5d3": {
          "model_module": "@jupyter-widgets/controls",
          "model_name": "HBoxModel",
          "model_module_version": "1.5.0",
          "state": {
            "_dom_classes": [],
            "_model_module": "@jupyter-widgets/controls",
            "_model_module_version": "1.5.0",
            "_model_name": "HBoxModel",
            "_view_count": null,
            "_view_module": "@jupyter-widgets/controls",
            "_view_module_version": "1.5.0",
            "_view_name": "HBoxView",
            "box_style": "",
            "children": [
              "IPY_MODEL_742f6653c818443c92cd653a2b66847a",
              "IPY_MODEL_0d21a1160d9f41cbac3c7afc7b15c81c",
              "IPY_MODEL_20c82a6ba00e4e6782922e296b95f8ec"
            ],
            "layout": "IPY_MODEL_ba4ef6e480f940c1972b5ea7865abd3d"
          }
        },
        "742f6653c818443c92cd653a2b66847a": {
          "model_module": "@jupyter-widgets/controls",
          "model_name": "HTMLModel",
          "model_module_version": "1.5.0",
          "state": {
            "_dom_classes": [],
            "_model_module": "@jupyter-widgets/controls",
            "_model_module_version": "1.5.0",
            "_model_name": "HTMLModel",
            "_view_count": null,
            "_view_module": "@jupyter-widgets/controls",
            "_view_module_version": "1.5.0",
            "_view_name": "HTMLView",
            "description": "",
            "description_tooltip": null,
            "layout": "IPY_MODEL_10377618d4014897a399be47564cc226",
            "placeholder": "​",
            "style": "IPY_MODEL_ec5b8f97424d4f669ea5476e00ce4434",
            "value": "Epoch 23: 100%"
          }
        },
        "0d21a1160d9f41cbac3c7afc7b15c81c": {
          "model_module": "@jupyter-widgets/controls",
          "model_name": "FloatProgressModel",
          "model_module_version": "1.5.0",
          "state": {
            "_dom_classes": [],
            "_model_module": "@jupyter-widgets/controls",
            "_model_module_version": "1.5.0",
            "_model_name": "FloatProgressModel",
            "_view_count": null,
            "_view_module": "@jupyter-widgets/controls",
            "_view_module_version": "1.5.0",
            "_view_name": "ProgressView",
            "bar_style": "success",
            "description": "",
            "description_tooltip": null,
            "layout": "IPY_MODEL_1378af1fbaf14f51a6657635863d1527",
            "max": 165,
            "min": 0,
            "orientation": "horizontal",
            "style": "IPY_MODEL_57c59dc0a62b46ada9df42f5635dcb3f",
            "value": 165
          }
        },
        "20c82a6ba00e4e6782922e296b95f8ec": {
          "model_module": "@jupyter-widgets/controls",
          "model_name": "HTMLModel",
          "model_module_version": "1.5.0",
          "state": {
            "_dom_classes": [],
            "_model_module": "@jupyter-widgets/controls",
            "_model_module_version": "1.5.0",
            "_model_name": "HTMLModel",
            "_view_count": null,
            "_view_module": "@jupyter-widgets/controls",
            "_view_module_version": "1.5.0",
            "_view_name": "HTMLView",
            "description": "",
            "description_tooltip": null,
            "layout": "IPY_MODEL_914eb180f4d64435832b5df26135c9a4",
            "placeholder": "​",
            "style": "IPY_MODEL_2ec28d0cb5174e72a420d1f946772083",
            "value": " 165/165 [00:04&lt;00:00, 39.85it/s, v_num=0]"
          }
        },
        "ba4ef6e480f940c1972b5ea7865abd3d": {
          "model_module": "@jupyter-widgets/base",
          "model_name": "LayoutModel",
          "model_module_version": "1.2.0",
          "state": {
            "_model_module": "@jupyter-widgets/base",
            "_model_module_version": "1.2.0",
            "_model_name": "LayoutModel",
            "_view_count": null,
            "_view_module": "@jupyter-widgets/base",
            "_view_module_version": "1.2.0",
            "_view_name": "LayoutView",
            "align_content": null,
            "align_items": null,
            "align_self": null,
            "border": null,
            "bottom": null,
            "display": "inline-flex",
            "flex": null,
            "flex_flow": "row wrap",
            "grid_area": null,
            "grid_auto_columns": null,
            "grid_auto_flow": null,
            "grid_auto_rows": null,
            "grid_column": null,
            "grid_gap": null,
            "grid_row": null,
            "grid_template_areas": null,
            "grid_template_columns": null,
            "grid_template_rows": null,
            "height": null,
            "justify_content": null,
            "justify_items": null,
            "left": null,
            "margin": null,
            "max_height": null,
            "max_width": null,
            "min_height": null,
            "min_width": null,
            "object_fit": null,
            "object_position": null,
            "order": null,
            "overflow": null,
            "overflow_x": null,
            "overflow_y": null,
            "padding": null,
            "right": null,
            "top": null,
            "visibility": null,
            "width": "100%"
          }
        },
        "10377618d4014897a399be47564cc226": {
          "model_module": "@jupyter-widgets/base",
          "model_name": "LayoutModel",
          "model_module_version": "1.2.0",
          "state": {
            "_model_module": "@jupyter-widgets/base",
            "_model_module_version": "1.2.0",
            "_model_name": "LayoutModel",
            "_view_count": null,
            "_view_module": "@jupyter-widgets/base",
            "_view_module_version": "1.2.0",
            "_view_name": "LayoutView",
            "align_content": null,
            "align_items": null,
            "align_self": null,
            "border": null,
            "bottom": null,
            "display": null,
            "flex": null,
            "flex_flow": null,
            "grid_area": null,
            "grid_auto_columns": null,
            "grid_auto_flow": null,
            "grid_auto_rows": null,
            "grid_column": null,
            "grid_gap": null,
            "grid_row": null,
            "grid_template_areas": null,
            "grid_template_columns": null,
            "grid_template_rows": null,
            "height": null,
            "justify_content": null,
            "justify_items": null,
            "left": null,
            "margin": null,
            "max_height": null,
            "max_width": null,
            "min_height": null,
            "min_width": null,
            "object_fit": null,
            "object_position": null,
            "order": null,
            "overflow": null,
            "overflow_x": null,
            "overflow_y": null,
            "padding": null,
            "right": null,
            "top": null,
            "visibility": null,
            "width": null
          }
        },
        "ec5b8f97424d4f669ea5476e00ce4434": {
          "model_module": "@jupyter-widgets/controls",
          "model_name": "DescriptionStyleModel",
          "model_module_version": "1.5.0",
          "state": {
            "_model_module": "@jupyter-widgets/controls",
            "_model_module_version": "1.5.0",
            "_model_name": "DescriptionStyleModel",
            "_view_count": null,
            "_view_module": "@jupyter-widgets/base",
            "_view_module_version": "1.2.0",
            "_view_name": "StyleView",
            "description_width": ""
          }
        },
        "1378af1fbaf14f51a6657635863d1527": {
          "model_module": "@jupyter-widgets/base",
          "model_name": "LayoutModel",
          "model_module_version": "1.2.0",
          "state": {
            "_model_module": "@jupyter-widgets/base",
            "_model_module_version": "1.2.0",
            "_model_name": "LayoutModel",
            "_view_count": null,
            "_view_module": "@jupyter-widgets/base",
            "_view_module_version": "1.2.0",
            "_view_name": "LayoutView",
            "align_content": null,
            "align_items": null,
            "align_self": null,
            "border": null,
            "bottom": null,
            "display": null,
            "flex": "2",
            "flex_flow": null,
            "grid_area": null,
            "grid_auto_columns": null,
            "grid_auto_flow": null,
            "grid_auto_rows": null,
            "grid_column": null,
            "grid_gap": null,
            "grid_row": null,
            "grid_template_areas": null,
            "grid_template_columns": null,
            "grid_template_rows": null,
            "height": null,
            "justify_content": null,
            "justify_items": null,
            "left": null,
            "margin": null,
            "max_height": null,
            "max_width": null,
            "min_height": null,
            "min_width": null,
            "object_fit": null,
            "object_position": null,
            "order": null,
            "overflow": null,
            "overflow_x": null,
            "overflow_y": null,
            "padding": null,
            "right": null,
            "top": null,
            "visibility": null,
            "width": null
          }
        },
        "57c59dc0a62b46ada9df42f5635dcb3f": {
          "model_module": "@jupyter-widgets/controls",
          "model_name": "ProgressStyleModel",
          "model_module_version": "1.5.0",
          "state": {
            "_model_module": "@jupyter-widgets/controls",
            "_model_module_version": "1.5.0",
            "_model_name": "ProgressStyleModel",
            "_view_count": null,
            "_view_module": "@jupyter-widgets/base",
            "_view_module_version": "1.2.0",
            "_view_name": "StyleView",
            "bar_color": null,
            "description_width": ""
          }
        },
        "914eb180f4d64435832b5df26135c9a4": {
          "model_module": "@jupyter-widgets/base",
          "model_name": "LayoutModel",
          "model_module_version": "1.2.0",
          "state": {
            "_model_module": "@jupyter-widgets/base",
            "_model_module_version": "1.2.0",
            "_model_name": "LayoutModel",
            "_view_count": null,
            "_view_module": "@jupyter-widgets/base",
            "_view_module_version": "1.2.0",
            "_view_name": "LayoutView",
            "align_content": null,
            "align_items": null,
            "align_self": null,
            "border": null,
            "bottom": null,
            "display": null,
            "flex": null,
            "flex_flow": null,
            "grid_area": null,
            "grid_auto_columns": null,
            "grid_auto_flow": null,
            "grid_auto_rows": null,
            "grid_column": null,
            "grid_gap": null,
            "grid_row": null,
            "grid_template_areas": null,
            "grid_template_columns": null,
            "grid_template_rows": null,
            "height": null,
            "justify_content": null,
            "justify_items": null,
            "left": null,
            "margin": null,
            "max_height": null,
            "max_width": null,
            "min_height": null,
            "min_width": null,
            "object_fit": null,
            "object_position": null,
            "order": null,
            "overflow": null,
            "overflow_x": null,
            "overflow_y": null,
            "padding": null,
            "right": null,
            "top": null,
            "visibility": null,
            "width": null
          }
        },
        "2ec28d0cb5174e72a420d1f946772083": {
          "model_module": "@jupyter-widgets/controls",
          "model_name": "DescriptionStyleModel",
          "model_module_version": "1.5.0",
          "state": {
            "_model_module": "@jupyter-widgets/controls",
            "_model_module_version": "1.5.0",
            "_model_name": "DescriptionStyleModel",
            "_view_count": null,
            "_view_module": "@jupyter-widgets/base",
            "_view_module_version": "1.2.0",
            "_view_name": "StyleView",
            "description_width": ""
          }
        }
      }
    }
  },
  "nbformat": 4,
  "nbformat_minor": 0
}